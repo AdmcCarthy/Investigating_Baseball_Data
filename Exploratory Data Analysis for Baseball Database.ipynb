{
 "cells": [
  {
   "cell_type": "markdown",
   "metadata": {},
   "source": [
    "## Exploratory Data Analysis for Baseball Database"
   ]
  },
  {
   "cell_type": "code",
   "execution_count": 7,
   "metadata": {},
   "outputs": [],
   "source": [
    "%matplotlib inline\n",
    "\n",
    "import Baseball_data_investigation\n",
    "import pandas as pd\n",
    "import seaborn as sns"
   ]
  },
  {
   "cell_type": "code",
   "execution_count": 2,
   "metadata": {},
   "outputs": [
    {
     "name": "stdout",
     "output_type": "stream",
     "text": [
      "Data not downloaded\n",
      "Processed hall of fame data\n",
      "There are 250 members of the Hall of Fame\n",
      "\n",
      "Processed All Star data\n",
      "aaronha01    25\n",
      "mayswi01     24\n",
      "musiast01    24\n",
      "mantlmi01    20\n",
      "willite01    19\n",
      "Name: playerID, dtype: int64\n",
      "\n",
      "Processed Player Awards data\n",
      "bondsba01    47\n",
      "willite01    39\n",
      "dimagjo01    36\n",
      "musiast01    34\n",
      "ruthba01     33\n",
      "Name: playerID, dtype: int64\n",
      "\n",
      "Processed Salary data\n",
      "            mean_salary  max_salary  min_salary  \\\n",
      "playerID                                          \n",
      "aardsda01  1.322821e+06   4500000.0    300000.0   \n",
      "aasedo01   5.750000e+05    675000.0    400000.0   \n",
      "abadan01   3.270000e+05    327000.0    327000.0   \n",
      "abadfe01   7.532800e+05   1250000.0    418000.0   \n",
      "abbotje01  2.462500e+05    300000.0    175000.0   \n",
      "\n",
      "           mean_salary_standardized_annually  \\\n",
      "playerID                                       \n",
      "aardsda01                          -0.440097   \n",
      "aasedo01                            0.299314   \n",
      "abadan01                           -0.663649   \n",
      "abadfe01                           -0.611419   \n",
      "abbotje01                          -0.644164   \n",
      "\n",
      "           max_salary_standardized_annually  min_salary_standardized_annually  \n",
      "playerID                                                                       \n",
      "aardsda01                          0.260102                         -0.670224  \n",
      "aasedo01                           0.489518                         -0.197610  \n",
      "abadan01                          -0.663649                         -0.663649  \n",
      "abadfe01                          -0.533287                         -0.670091  \n",
      "abbotje01                         -0.598825                         -0.690417  \n",
      "\n",
      "          mode_schoolID               name_full        city state country\n",
      "playerID                                                                 \n",
      "aardsda01          rice         Rice University     Houston    TX     USA\n",
      "abadan01        gamiddl  Middle Georgia College     Cochran    GA     USA\n",
      "abbeybe01       vermont   University of Vermont  Burlington    VT     USA\n",
      "abbotje01      kentucky  University of Kentucky   Lexington    KY     USA\n",
      "abbotji01      michigan  University of Michigan   Ann Arbor    MI     USA\n",
      "Processed college locations\n",
      "\n",
      "Processed master file\n",
      "master_merge is ready\n",
      "data audit complete\n"
     ]
    },
    {
     "name": "stderr",
     "output_type": "stream",
     "text": [
      "C:\\Users\\Adam\\Anaconda3\\lib\\site-packages\\pandas\\core\\indexes\\api.py:43: RuntimeWarning: unorderable types: int() < str(), sort order is undefined for incomparable objects\n",
      "  union = _union_indexes(indexes)\n"
     ]
    },
    {
     "data": {
      "text/html": [
       "<div>\n",
       "<style>\n",
       "    .dataframe thead tr:only-child th {\n",
       "        text-align: right;\n",
       "    }\n",
       "\n",
       "    .dataframe thead th {\n",
       "        text-align: left;\n",
       "    }\n",
       "\n",
       "    .dataframe tbody tr th {\n",
       "        vertical-align: top;\n",
       "    }\n",
       "</style>\n",
       "<table border=\"1\" class=\"dataframe\">\n",
       "  <thead>\n",
       "    <tr style=\"text-align: right;\">\n",
       "      <th></th>\n",
       "      <th>playerID</th>\n",
       "      <th>yearid</th>\n",
       "      <th>votedBy</th>\n",
       "      <th>ballots</th>\n",
       "      <th>needed</th>\n",
       "      <th>votes</th>\n",
       "      <th>inducted</th>\n",
       "      <th>category</th>\n",
       "      <th>needed_note</th>\n",
       "      <th>playerID</th>\n",
       "      <th>...</th>\n",
       "      <th>nameLast</th>\n",
       "      <th>nameGiven</th>\n",
       "      <th>weight</th>\n",
       "      <th>height</th>\n",
       "      <th>bats</th>\n",
       "      <th>throws</th>\n",
       "      <th>debut</th>\n",
       "      <th>finalGame</th>\n",
       "      <th>retroID</th>\n",
       "      <th>bbrefID</th>\n",
       "    </tr>\n",
       "  </thead>\n",
       "  <tbody>\n",
       "    <tr>\n",
       "      <th>0</th>\n",
       "      <td>cobbty01</td>\n",
       "      <td>1936.0</td>\n",
       "      <td>BBWAA</td>\n",
       "      <td>226.0</td>\n",
       "      <td>170.0</td>\n",
       "      <td>222.0</td>\n",
       "      <td>Y</td>\n",
       "      <td>Player</td>\n",
       "      <td>NaN</td>\n",
       "      <td>NaN</td>\n",
       "      <td>...</td>\n",
       "      <td>Aardsma</td>\n",
       "      <td>David Allan</td>\n",
       "      <td>215.0</td>\n",
       "      <td>75.0</td>\n",
       "      <td>R</td>\n",
       "      <td>R</td>\n",
       "      <td>2004-04-06</td>\n",
       "      <td>2015-08-23</td>\n",
       "      <td>aardd001</td>\n",
       "      <td>aardsda01</td>\n",
       "    </tr>\n",
       "    <tr>\n",
       "      <th>1</th>\n",
       "      <td>ruthba01</td>\n",
       "      <td>1936.0</td>\n",
       "      <td>BBWAA</td>\n",
       "      <td>226.0</td>\n",
       "      <td>170.0</td>\n",
       "      <td>215.0</td>\n",
       "      <td>Y</td>\n",
       "      <td>Player</td>\n",
       "      <td>NaN</td>\n",
       "      <td>NaN</td>\n",
       "      <td>...</td>\n",
       "      <td>Aaron</td>\n",
       "      <td>Henry Louis</td>\n",
       "      <td>180.0</td>\n",
       "      <td>72.0</td>\n",
       "      <td>R</td>\n",
       "      <td>R</td>\n",
       "      <td>1954-04-13</td>\n",
       "      <td>1976-10-03</td>\n",
       "      <td>aaroh101</td>\n",
       "      <td>aaronha01</td>\n",
       "    </tr>\n",
       "    <tr>\n",
       "      <th>2</th>\n",
       "      <td>wagneho01</td>\n",
       "      <td>1936.0</td>\n",
       "      <td>BBWAA</td>\n",
       "      <td>226.0</td>\n",
       "      <td>170.0</td>\n",
       "      <td>215.0</td>\n",
       "      <td>Y</td>\n",
       "      <td>Player</td>\n",
       "      <td>NaN</td>\n",
       "      <td>NaN</td>\n",
       "      <td>...</td>\n",
       "      <td>Aaron</td>\n",
       "      <td>Tommie Lee</td>\n",
       "      <td>190.0</td>\n",
       "      <td>75.0</td>\n",
       "      <td>R</td>\n",
       "      <td>R</td>\n",
       "      <td>1962-04-10</td>\n",
       "      <td>1971-09-26</td>\n",
       "      <td>aarot101</td>\n",
       "      <td>aaronto01</td>\n",
       "    </tr>\n",
       "    <tr>\n",
       "      <th>3</th>\n",
       "      <td>mathech01</td>\n",
       "      <td>1936.0</td>\n",
       "      <td>BBWAA</td>\n",
       "      <td>226.0</td>\n",
       "      <td>170.0</td>\n",
       "      <td>205.0</td>\n",
       "      <td>Y</td>\n",
       "      <td>Player</td>\n",
       "      <td>NaN</td>\n",
       "      <td>NaN</td>\n",
       "      <td>...</td>\n",
       "      <td>Aase</td>\n",
       "      <td>Donald William</td>\n",
       "      <td>190.0</td>\n",
       "      <td>75.0</td>\n",
       "      <td>R</td>\n",
       "      <td>R</td>\n",
       "      <td>1977-07-26</td>\n",
       "      <td>1990-10-03</td>\n",
       "      <td>aased001</td>\n",
       "      <td>aasedo01</td>\n",
       "    </tr>\n",
       "    <tr>\n",
       "      <th>4</th>\n",
       "      <td>johnswa01</td>\n",
       "      <td>1936.0</td>\n",
       "      <td>BBWAA</td>\n",
       "      <td>226.0</td>\n",
       "      <td>170.0</td>\n",
       "      <td>189.0</td>\n",
       "      <td>Y</td>\n",
       "      <td>Player</td>\n",
       "      <td>NaN</td>\n",
       "      <td>NaN</td>\n",
       "      <td>...</td>\n",
       "      <td>Abad</td>\n",
       "      <td>Fausto Andres</td>\n",
       "      <td>184.0</td>\n",
       "      <td>73.0</td>\n",
       "      <td>L</td>\n",
       "      <td>L</td>\n",
       "      <td>2001-09-10</td>\n",
       "      <td>2006-04-13</td>\n",
       "      <td>abada001</td>\n",
       "      <td>abadan01</td>\n",
       "    </tr>\n",
       "  </tbody>\n",
       "</table>\n",
       "<p>5 rows × 46 columns</p>\n",
       "</div>"
      ],
      "text/plain": [
       "    playerID  yearid votedBy  ballots  needed  votes inducted category  \\\n",
       "0   cobbty01  1936.0   BBWAA    226.0   170.0  222.0        Y   Player   \n",
       "1   ruthba01  1936.0   BBWAA    226.0   170.0  215.0        Y   Player   \n",
       "2  wagneho01  1936.0   BBWAA    226.0   170.0  215.0        Y   Player   \n",
       "3  mathech01  1936.0   BBWAA    226.0   170.0  205.0        Y   Player   \n",
       "4  johnswa01  1936.0   BBWAA    226.0   170.0  189.0        Y   Player   \n",
       "\n",
       "  needed_note  playerID    ...      nameLast       nameGiven  weight  height  \\\n",
       "0         NaN       NaN    ...       Aardsma     David Allan   215.0    75.0   \n",
       "1         NaN       NaN    ...         Aaron     Henry Louis   180.0    72.0   \n",
       "2         NaN       NaN    ...         Aaron      Tommie Lee   190.0    75.0   \n",
       "3         NaN       NaN    ...          Aase  Donald William   190.0    75.0   \n",
       "4         NaN       NaN    ...          Abad   Fausto Andres   184.0    73.0   \n",
       "\n",
       "   bats  throws       debut   finalGame   retroID    bbrefID  \n",
       "0     R       R  2004-04-06  2015-08-23  aardd001  aardsda01  \n",
       "1     R       R  1954-04-13  1976-10-03  aaroh101  aaronha01  \n",
       "2     R       R  1962-04-10  1971-09-26  aarot101  aaronto01  \n",
       "3     R       R  1977-07-26  1990-10-03  aased001   aasedo01  \n",
       "4     L       L  2001-09-10  2006-04-13  abada001   abadan01  \n",
       "\n",
       "[5 rows x 46 columns]"
      ]
     },
     "execution_count": 2,
     "metadata": {},
     "output_type": "execute_result"
    }
   ],
   "source": [
    "df = Baseball_data_investigation.main()\n",
    "df.head()"
   ]
  },
  {
   "cell_type": "code",
   "execution_count": 3,
   "metadata": {},
   "outputs": [
    {
     "name": "stdout",
     "output_type": "stream",
     "text": [
      "['playerID', 'yearid', 'votedBy', 'ballots', 'needed', 'votes', 'inducted', 'category', 'needed_note', 'playerID', 'playerID', 'mean_salary', 'max_salary', 'min_salary', 'mean_salary_standardized_annually', 'max_salary_standardized_annually', 'min_salary_standardized_annually', 'mode_schoolID', 'name_full', 'city', 'state', 'country', 'playerID', 'birthYear', 'birthMonth', 'birthDay', 'birthCountry', 'birthState', 'birthCity', 'deathYear', 'deathMonth', 'deathDay', 'deathCountry', 'deathState', 'deathCity', 'nameFirst', 'nameLast', 'nameGiven', 'weight', 'height', 'bats', 'throws', 'debut', 'finalGame', 'retroID', 'bbrefID']\n"
     ]
    }
   ],
   "source": [
    "columns = list(df.columns.values)\n",
    "print(columns)"
   ]
  },
  {
   "cell_type": "code",
   "execution_count": 14,
   "metadata": {},
   "outputs": [
    {
     "data": {
      "text/plain": [
       "True"
      ]
     },
     "execution_count": 14,
     "metadata": {},
     "output_type": "execute_result"
    }
   ],
   "source": [
    "df.isnull().values.any()"
   ]
  },
  {
   "cell_type": "code",
   "execution_count": 13,
   "metadata": {},
   "outputs": [
    {
     "data": {
      "image/png": "[encoded data removed]",
      "text/plain": [
       "<matplotlib.figure.Figure at 0x243eaf00518>"
      ]
     },
     "metadata": {},
     "output_type": "display_data"
    }
   ],
   "source": [
    "sns.set(color_codes=True)\n",
    "x = df['mean_salary_standardized_annually'].dropna()\n",
    "sns.distplot(x);"
   ]
  },
  {
   "cell_type": "code",
   "execution_count": null,
   "metadata": {
    "collapsed": true
   },
   "outputs": [],
   "source": []
  }
 ],
 "metadata": {
  "anaconda-cloud": {},
  "kernelspec": {
   "display_name": "Python [conda root]",
   "language": "python",
   "name": "conda-root-py"
  },
  "language_info": {
   "codemirror_mode": {
    "name": "ipython",
    "version": 3
   },
   "file_extension": ".py",
   "mimetype": "text/x-python",
   "name": "python",
   "nbconvert_exporter": "python",
   "pygments_lexer": "ipython3",
   "version": "3.5.3"
  }
 },
 "nbformat": 4,
 "nbformat_minor": 2
}
